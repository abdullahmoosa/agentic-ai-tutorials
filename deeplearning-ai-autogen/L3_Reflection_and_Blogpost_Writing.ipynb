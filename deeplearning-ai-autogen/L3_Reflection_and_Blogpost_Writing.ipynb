{
 "cells": [
  {
   "cell_type": "markdown",
   "id": "fc3024e2",
   "metadata": {},
   "source": [
    "# Lesson 3: Reflection and Blogpost Writing"
   ]
  },
  {
   "cell_type": "markdown",
   "id": "3b0cc42f",
   "metadata": {},
   "source": [
    "## Setup"
   ]
  },
  {
   "cell_type": "code",
   "execution_count": 1,
   "id": "96d39be0-eaf3-456d-8613-ba21099ed36b",
   "metadata": {
    "height": 30
   },
   "outputs": [],
   "source": [
    "llm_config = {\"model\": \"gpt-3.5-turbo\"}"
   ]
  },
  {
   "cell_type": "markdown",
   "id": "0969e6bb",
   "metadata": {},
   "source": [
    "## The task!"
   ]
  },
  {
   "cell_type": "code",
   "execution_count": 2,
   "id": "e8074032-3690-4de9-ad08-ea8323cb441b",
   "metadata": {
    "height": 115
   },
   "outputs": [],
   "source": [
    "task = '''\n",
    "        Write a concise but engaging blogpost about\n",
    "       DeepLearning.AI. Make sure the blogpost is\n",
    "       within 100 words.\n",
    "       '''\n"
   ]
  },
  {
   "cell_type": "markdown",
   "id": "1987f023",
   "metadata": {},
   "source": [
    "## Create a writer agent"
   ]
  },
  {
   "cell_type": "code",
   "execution_count": 3,
   "id": "fe0f0a47-a9fe-43a0-b7b1-79922e4c4ac8",
   "metadata": {
    "height": 183
   },
   "outputs": [],
   "source": [
    "import autogen\n",
    "\n",
    "writer = autogen.AssistantAgent(\n",
    "    name=\"Writer\",\n",
    "    system_message=\"You are a writer. You write engaging and concise \" \n",
    "        \"blogpost (with title) on given topics. You must polish your \"\n",
    "        \"writing based on the feedback you receive and give a refined \"\n",
    "        \"version. Only return your final work without additional comments.\",\n",
    "    llm_config=llm_config,\n",
    ")"
   ]
  },
  {
   "cell_type": "code",
   "execution_count": 4,
   "id": "7c7b4d8d-40f7-4a05-8958-25d20054de3a",
   "metadata": {
    "height": 30
   },
   "outputs": [],
   "source": [
    "reply = writer.generate_reply(messages=[{\"content\": task, \"role\": \"user\"}])"
   ]
  },
  {
   "cell_type": "code",
   "execution_count": 5,
   "id": "c501c97d-e338-4f36-a384-6ec45983cf77",
   "metadata": {
    "height": 30
   },
   "outputs": [
    {
     "name": "stdout",
     "output_type": "stream",
     "text": [
      "Title: Unveiling the Power of DeepLearning.AI\n",
      "\n",
      "Delve into the world of artificial intelligence with DeepLearning.AI! Spearheaded by industry leader Andrew Ng, this online platform offers a gateway to mastering deep learning. From neural networks to natural language processing, it equips learners with in-demand AI skills. The interactive courses and hands-on projects make complex concepts easily digestible for beginners and experts alike. Whether you're a tech enthusiast or a professional looking to upskill, DeepLearning.AI provides a dynamic learning experience that can propel your career forward in this rapidly evolving field. Embrace the future of AI today!\n"
     ]
    }
   ],
   "source": [
    "print(reply)"
   ]
  },
  {
   "cell_type": "markdown",
   "id": "49658114",
   "metadata": {},
   "source": [
    "## Adding reflection \n",
    "\n",
    "Create a critic agent to reflect on the work of the writer agent."
   ]
  },
  {
   "cell_type": "code",
   "execution_count": 6,
   "id": "c7fcd1c7-51ec-4915-8e97-bac03565c4c7",
   "metadata": {
    "height": 149
   },
   "outputs": [],
   "source": [
    "critic = autogen.AssistantAgent(\n",
    "    name=\"Critic\",\n",
    "    is_termination_msg=lambda x: x.get(\"content\", \"\").find(\"TERMINATE\") >= 0,\n",
    "    llm_config=llm_config,\n",
    "    system_message=\"You are a critic. You review the work of \"\n",
    "                \"the writer and provide constructive \"\n",
    "                \"feedback to help improve the quality of the content.\",\n",
    ")"
   ]
  },
  {
   "cell_type": "code",
   "execution_count": 7,
   "id": "899d5fdb-6081-470b-b287-8cf8b8142d0d",
   "metadata": {
    "height": 115
   },
   "outputs": [
    {
     "name": "stdout",
     "output_type": "stream",
     "text": [
      "\u001b[33mCritic\u001b[0m (to Writer):\n",
      "\n",
      "\n",
      "        Write a concise but engaging blogpost about\n",
      "       DeepLearning.AI. Make sure the blogpost is\n",
      "       within 100 words.\n",
      "       \n",
      "\n",
      "--------------------------------------------------------------------------------\n",
      "\u001b[33mWriter\u001b[0m (to Critic):\n",
      "\n",
      "Title: Unveiling the Power of DeepLearning.AI\n",
      "\n",
      "Delve into the world of artificial intelligence with DeepLearning.AI! Spearheaded by industry leader Andrew Ng, this online platform offers a gateway to mastering deep learning. From neural networks to natural language processing, it equips learners with in-demand AI skills. The interactive courses and hands-on projects make complex concepts easily digestible for beginners and experts alike. Whether you're a tech enthusiast or a professional looking to upskill, DeepLearning.AI provides a dynamic learning experience that can propel your career forward in this rapidly evolving field. Embrace the future of AI today!\n",
      "\n",
      "--------------------------------------------------------------------------------\n",
      "\u001b[33mCritic\u001b[0m (to Writer):\n",
      "\n",
      "This blog post effectively captures the essence of DeepLearning.AI, highlighting its key features and benefits concisely within the specified word limit. The title is attention-grabbing and sets the tone for the content. The introduction provides a brief overview of the platform, emphasizing its significance in the field of artificial intelligence. The use of descriptive language enhances the reader's understanding and creates a sense of excitement about the subject. Overall, the post effectively communicates the value of DeepLearning.AI and encourages readers to explore its offerings. Great job!\n",
      "\n",
      "--------------------------------------------------------------------------------\n",
      "\u001b[33mWriter\u001b[0m (to Critic):\n",
      "\n",
      "Title: Unleashing the Potential of DeepLearning.AI\n",
      "\n",
      "Embark on a transformative journey into the realm of artificial intelligence with DeepLearning.AI. Led by renowned expert Andrew Ng, this online platform is a launchpad to mastering the intricacies of deep learning. Covering everything from neural networks to natural language processing, it equips learners with essential AI skills. The interactive courses and practical projects cater to both novices and seasoned professionals, making complex topics easily comprehensible. Whether you're a technology enthusiast or a career-driven individual, DeepLearning.AI offers a dynamic learning environment that can elevate your expertise in this rapidly evolving field. Embrace the future of AI today!\n",
      "\n",
      "--------------------------------------------------------------------------------\n"
     ]
    }
   ],
   "source": [
    "res = critic.initiate_chat(\n",
    "    recipient=writer,\n",
    "    message=task,\n",
    "    max_turns=2,\n",
    "    summary_method=\"last_msg\"\n",
    ")"
   ]
  },
  {
   "cell_type": "markdown",
   "id": "e7b76449",
   "metadata": {},
   "source": [
    "## Nested chat"
   ]
  },
  {
   "cell_type": "code",
   "execution_count": 8,
   "id": "401ecf92-63e9-40ff-aeed-1c404352e4ab",
   "metadata": {
    "height": 200
   },
   "outputs": [],
   "source": [
    "SEO_reviewer = autogen.AssistantAgent(\n",
    "    name=\"SEO Reviewer\",\n",
    "    llm_config=llm_config,\n",
    "    system_message=\"You are an SEO reviewer, known for \"\n",
    "        \"your ability to optimize content for search engines, \"\n",
    "        \"ensuring that it ranks well and attracts organic traffic. \" \n",
    "        \"Make sure your suggestion is concise (within 3 bullet points), \"\n",
    "        \"concrete and to the point. \"\n",
    "        \"Begin the review by stating your role.\",\n",
    ")\n"
   ]
  },
  {
   "cell_type": "code",
   "execution_count": 9,
   "id": "f85acb81-7ab9-4c84-b8bb-6fbae3dce848",
   "metadata": {
    "height": 183
   },
   "outputs": [],
   "source": [
    "legal_reviewer = autogen.AssistantAgent(\n",
    "    name=\"Legal Reviewer\",\n",
    "    llm_config=llm_config,\n",
    "    system_message=\"You are a legal reviewer, known for \"\n",
    "        \"your ability to ensure that content is legally compliant \"\n",
    "        \"and free from any potential legal issues. \"\n",
    "        \"Make sure your suggestion is concise (within 3 bullet points), \"\n",
    "        \"concrete and to the point. \"\n",
    "        \"Begin the review by stating your role.\",\n",
    ")"
   ]
  },
  {
   "cell_type": "code",
   "execution_count": 10,
   "id": "d46a177a-8088-4956-8d2b-3e916b8ca5e9",
   "metadata": {
    "height": 183
   },
   "outputs": [],
   "source": [
    "ethics_reviewer = autogen.AssistantAgent(\n",
    "    name=\"Ethics Reviewer\",\n",
    "    llm_config=llm_config,\n",
    "    system_message=\"You are an ethics reviewer, known for \"\n",
    "        \"your ability to ensure that content is ethically sound \"\n",
    "        \"and free from any potential ethical issues. \" \n",
    "        \"Make sure your suggestion is concise (within 3 bullet points), \"\n",
    "        \"concrete and to the point. \"\n",
    "        \"Begin the review by stating your role. \",\n",
    ")"
   ]
  },
  {
   "cell_type": "code",
   "execution_count": 11,
   "id": "a7b2ad6f-8ba6-436a-9459-14ffbe8a32d3",
   "metadata": {
    "height": 115
   },
   "outputs": [],
   "source": [
    "meta_reviewer = autogen.AssistantAgent(\n",
    "    name=\"Meta Reviewer\",\n",
    "    llm_config=llm_config,\n",
    "    system_message=\"You are a meta reviewer, you aggragate and review \"\n",
    "    \"the work of other reviewers and give a final suggestion on the content.\",\n",
    ")"
   ]
  },
  {
   "cell_type": "markdown",
   "id": "913beca1",
   "metadata": {},
   "source": [
    "## Orchestrate the nested chats to solve the task"
   ]
  },
  {
   "cell_type": "code",
   "execution_count": 19,
   "id": "a11a70c7-19ca-4e5a-ad3d-f2b481fb5915",
   "metadata": {
    "height": 557
   },
   "outputs": [],
   "source": [
    "def reflection_message(recipient, messages, sender, config):\n",
    "#     print(recipient.chat_messages_for_summary(sender)[-1])\n",
    "    return f'''Review the following content. \n",
    "            \\n\\n {recipient.chat_messages_for_summary(sender)[-1]['content']}'''\n",
    "\n",
    "review_chats = [\n",
    "    {\n",
    "     \"recipient\": SEO_reviewer, \n",
    "     \"message\": reflection_message, \n",
    "     \"summary_method\": \"reflection_with_llm\",\n",
    "     \"summary_args\": {\"summary_prompt\" : \n",
    "        \"Return review into as JSON object only:\"\n",
    "        \"{'Reviewer': '', 'Review': ''}. Here Reviewer should be your role\",},\n",
    "     \"max_turns\": 1},\n",
    "    {\n",
    "    \"recipient\": legal_reviewer, \"message\": reflection_message, \n",
    "     \"summary_method\": \"reflection_with_llm\",\n",
    "     \"summary_args\": {\"summary_prompt\" : \n",
    "        \"Return review into as JSON object only:\"\n",
    "        \"{'Reviewer': '', 'Review': ''}.\",},\n",
    "     \"max_turns\": 1},\n",
    "    {\"recipient\": ethics_reviewer, \"message\": reflection_message, \n",
    "     \"summary_method\": \"reflection_with_llm\",\n",
    "     \"summary_args\": {\"summary_prompt\" : \n",
    "        \"Return review into as JSON object only:\"\n",
    "        \"{'reviewer': '', 'review': ''}\",},\n",
    "     \"max_turns\": 1},\n",
    "     {\"recipient\": meta_reviewer, \n",
    "      \"message\": \"Aggregrate feedback from all reviewers and give final suggestions on the writing.\", \n",
    "     \"max_turns\": 1},\n",
    "]\n"
   ]
  },
  {
   "cell_type": "code",
   "execution_count": 20,
   "id": "b3a40b66-5061-460d-ad9d-c0dbcfbba2e9",
   "metadata": {
    "height": 81
   },
   "outputs": [],
   "source": [
    "critic.register_nested_chats(\n",
    "    review_chats,\n",
    "    trigger=writer,\n",
    ")"
   ]
  },
  {
   "cell_type": "markdown",
   "id": "43b8797d",
   "metadata": {},
   "source": [
    "**Note**: You might get a slightly different response than what's shown in the video. Feel free to try different task."
   ]
  },
  {
   "cell_type": "code",
   "execution_count": 21,
   "id": "3b8dcac3-1e72-43b7-9d5a-1be740f6efd5",
   "metadata": {
    "height": 115
   },
   "outputs": [
    {
     "name": "stdout",
     "output_type": "stream",
     "text": [
      "\u001b[33mCritic\u001b[0m (to Writer):\n",
      "\n",
      "\n",
      "        Write a concise but engaging blogpost about\n",
      "       DeepLearning.AI. Make sure the blogpost is\n",
      "       within 100 words.\n",
      "       \n",
      "\n",
      "--------------------------------------------------------------------------------\n",
      "\u001b[33mWriter\u001b[0m (to Critic):\n",
      "\n",
      "Title: Unveiling the Power of DeepLearning.AI\n",
      "\n",
      "Delve into the world of artificial intelligence with DeepLearning.AI! Spearheaded by industry leader Andrew Ng, this online platform offers a gateway to mastering deep learning. From neural networks to natural language processing, it equips learners with in-demand AI skills. The interactive courses and hands-on projects make complex concepts easily digestible for beginners and experts alike. Whether you're a tech enthusiast or a professional looking to upskill, DeepLearning.AI provides a dynamic learning experience that can propel your career forward in this rapidly evolving field. Embrace the future of AI today!\n",
      "\n",
      "--------------------------------------------------------------------------------\n",
      "\u001b[34m\n",
      "********************************************************************************\u001b[0m\n",
      "\u001b[34mStarting a new chat....\u001b[0m\n",
      "\u001b[34m\n",
      "********************************************************************************\u001b[0m\n",
      "\u001b[33mCritic\u001b[0m (to SEO Reviewer):\n",
      "\n",
      "Review the following content. \n",
      "            \n",
      "\n",
      " Title: Unveiling the Power of DeepLearning.AI\n",
      "\n",
      "Delve into the world of artificial intelligence with DeepLearning.AI! Spearheaded by industry leader Andrew Ng, this online platform offers a gateway to mastering deep learning. From neural networks to natural language processing, it equips learners with in-demand AI skills. The interactive courses and hands-on projects make complex concepts easily digestible for beginners and experts alike. Whether you're a tech enthusiast or a professional looking to upskill, DeepLearning.AI provides a dynamic learning experience that can propel your career forward in this rapidly evolving field. Embrace the future of AI today!\n",
      "\n",
      "--------------------------------------------------------------------------------\n",
      "\u001b[33mSEO Reviewer\u001b[0m (to Critic):\n",
      "\n",
      "As an SEO reviewer:\n",
      "\n",
      "1. Title: Consider adding strategic keywords like \"AI courses\" or \"Andrew Ng\" to improve search visibility.\n",
      "2. Incorporate relevant meta tags, such as title and description, to optimize for search engine results.\n",
      "3. Include internal links to related content on DeepLearning.AI's site for better SEO performance and user engagement.\n",
      "\n",
      "--------------------------------------------------------------------------------\n",
      "\u001b[34m\n",
      "********************************************************************************\u001b[0m\n",
      "\u001b[34mStarting a new chat....\u001b[0m\n",
      "\u001b[34m\n",
      "********************************************************************************\u001b[0m\n",
      "\u001b[33mCritic\u001b[0m (to Legal Reviewer):\n",
      "\n",
      "Review the following content. \n",
      "            \n",
      "\n",
      " Title: Unveiling the Power of DeepLearning.AI\n",
      "\n",
      "Delve into the world of artificial intelligence with DeepLearning.AI! Spearheaded by industry leader Andrew Ng, this online platform offers a gateway to mastering deep learning. From neural networks to natural language processing, it equips learners with in-demand AI skills. The interactive courses and hands-on projects make complex concepts easily digestible for beginners and experts alike. Whether you're a tech enthusiast or a professional looking to upskill, DeepLearning.AI provides a dynamic learning experience that can propel your career forward in this rapidly evolving field. Embrace the future of AI today!\n",
      "Context: \n",
      "{'Reviewer': 'SEO Analyst', 'Review': 'Consider optimizing the title for better search visibility by adding relevant keywords. Implement meta tags and internal linking strategies to improve SEO performance.'}\n",
      "\n",
      "--------------------------------------------------------------------------------\n",
      "\u001b[33mLegal Reviewer\u001b[0m (to Critic):\n",
      "\n",
      "As a Legal Reviewer, I recommend the following for the provided content:\n",
      "\n",
      "1. Ensure compliance with intellectual property rights: Confirm that there are no copyright infringements in the language used, especially in referencing Andrew Ng and DeepLearning.AI.\n",
      "\n",
      "2. Avoid making unsubstantiated claims: Ensure that statements like \"mastering deep learning\" are not misleading or create false expectations for learners regarding their level of proficiency upon completion of the courses.\n",
      "\n",
      "3. Verify accuracy in representations: Double-check the accuracy of any claims made about the content and format of the courses offered by DeepLearning.AI to avoid any potential misrepresentation to learners.\n",
      "\n",
      "--------------------------------------------------------------------------------\n",
      "\u001b[34m\n",
      "********************************************************************************\u001b[0m\n",
      "\u001b[34mStarting a new chat....\u001b[0m\n",
      "\u001b[34m\n",
      "********************************************************************************\u001b[0m\n",
      "\u001b[33mCritic\u001b[0m (to Ethics Reviewer):\n",
      "\n",
      "Review the following content. \n",
      "            \n",
      "\n",
      " Title: Unveiling the Power of DeepLearning.AI\n",
      "\n",
      "Delve into the world of artificial intelligence with DeepLearning.AI! Spearheaded by industry leader Andrew Ng, this online platform offers a gateway to mastering deep learning. From neural networks to natural language processing, it equips learners with in-demand AI skills. The interactive courses and hands-on projects make complex concepts easily digestible for beginners and experts alike. Whether you're a tech enthusiast or a professional looking to upskill, DeepLearning.AI provides a dynamic learning experience that can propel your career forward in this rapidly evolving field. Embrace the future of AI today!\n",
      "Context: \n",
      "{'Reviewer': 'SEO Analyst', 'Review': 'Consider optimizing the title for better search visibility by adding relevant keywords. Implement meta tags and internal linking strategies to improve SEO performance.'}\n",
      "{'Reviewer': 'Legal Reviewer', 'Review': 'Ensure compliance with intellectual property rights. Avoid making unsubstantiated claims. Verify accuracy in representations.'}\n",
      "\n",
      "--------------------------------------------------------------------------------\n",
      "\u001b[33mEthics Reviewer\u001b[0m (to Critic):\n",
      "\n",
      "As an Ethics Reviewer:\n",
      "\n",
      "- Ensure that any claims made about the effectiveness or impact of the DeepLearning.AI platform are backed up by verifiable data or evidence to avoid potential misleading of consumers.\n",
      "- Check that the promotional language used does not create unrealistic expectations for learners regarding their skill mastery or career advancement after completing the courses.\n",
      "- Verify that the representation of the platform's benefits and features is accurate and does not overstate its capabilities.\n",
      "\n",
      "--------------------------------------------------------------------------------\n",
      "\u001b[34m\n",
      "********************************************************************************\u001b[0m\n",
      "\u001b[34mStarting a new chat....\u001b[0m\n",
      "\u001b[34m\n",
      "********************************************************************************\u001b[0m\n",
      "\u001b[33mCritic\u001b[0m (to Meta Reviewer):\n",
      "\n",
      "Aggregrate feedback from all reviewers and give final suggestions on the writing.\n",
      "Context: \n",
      "{'Reviewer': 'SEO Analyst', 'Review': 'Consider optimizing the title for better search visibility by adding relevant keywords. Implement meta tags and internal linking strategies to improve SEO performance.'}\n",
      "{'Reviewer': 'Legal Reviewer', 'Review': 'Ensure compliance with intellectual property rights. Avoid making unsubstantiated claims. Verify accuracy in representations.'}\n",
      "{'reviewer': 'Ethics Reviewer', 'review': '- Ensure that any claims made about the effectiveness or impact of the DeepLearning.AI platform are backed up by verifiable data or evidence to avoid potential misleading of consumers.\\n- Check that the promotional language used does not create unrealistic expectations for learners regarding their skill mastery or career advancement after completing the courses.\\n- Verify that the representation of the platform\\'s benefits and features is accurate and does not overstate its capabilities.'}\n",
      "\n",
      "--------------------------------------------------------------------------------\n",
      "\u001b[33mMeta Reviewer\u001b[0m (to Critic):\n",
      "\n",
      "Aggregated feedback:\n",
      "1. SEO Analyst: Focus on optimizing the title with relevant keywords, implement meta tags, and internal linking strategies for better search visibility.\n",
      "2. Legal Reviewer: Ensure compliance with intellectual property rights, avoid unsubstantiated claims, and verify accuracy in representations.\n",
      "3. Ethics Reviewer: Back up claims about effectiveness with verifiable data, avoid creating unrealistic expectations with promotional language, and ensure accurate representation of platform benefits without overstating capabilities.\n",
      "\n",
      "Final suggestion on the writing:\n",
      "1. Optimize the title with relevant keywords for improved search visibility.\n",
      "2. Ensure compliance with intellectual property rights and avoid making unsubstantiated claims to maintain credibility.\n",
      "3. Back up claims with verifiable data to avoid misleading consumers and steer clear of creating unrealistic expectations in promotional language.\n",
      "4. Accurately represent the benefits and features of the DeepLearning.AI platform without overstating capabilities to maintain transparency and trust with the audience.\n"
     ]
    },
    {
     "name": "stdout",
     "output_type": "stream",
     "text": [
      "\n",
      "--------------------------------------------------------------------------------\n",
      "\u001b[33mCritic\u001b[0m (to Writer):\n",
      "\n",
      "Aggregated feedback:\n",
      "1. SEO Analyst: Focus on optimizing the title with relevant keywords, implement meta tags, and internal linking strategies for better search visibility.\n",
      "2. Legal Reviewer: Ensure compliance with intellectual property rights, avoid unsubstantiated claims, and verify accuracy in representations.\n",
      "3. Ethics Reviewer: Back up claims about effectiveness with verifiable data, avoid creating unrealistic expectations with promotional language, and ensure accurate representation of platform benefits without overstating capabilities.\n",
      "\n",
      "Final suggestion on the writing:\n",
      "1. Optimize the title with relevant keywords for improved search visibility.\n",
      "2. Ensure compliance with intellectual property rights and avoid making unsubstantiated claims to maintain credibility.\n",
      "3. Back up claims with verifiable data to avoid misleading consumers and steer clear of creating unrealistic expectations in promotional language.\n",
      "4. Accurately represent the benefits and features of the DeepLearning.AI platform without overstating capabilities to maintain transparency and trust with the audience.\n",
      "\n",
      "--------------------------------------------------------------------------------\n",
      "\u001b[33mWriter\u001b[0m (to Critic):\n",
      "\n",
      "Title: Mastering AI with DeepLearning.AI\n",
      "\n",
      "Dive deep into the realm of artificial intelligence with DeepLearning.AI, led by renowned expert Andrew Ng. The platform offers a comprehensive range of courses, from neural networks to natural language processing, enabling learners to hone essential AI skills. With interactive modules and practical projects, DeepLearning.AI caters to beginners and seasoned professionals alike. Whether you're an enthusiast or a career-driven individual, this dynamic learning experience can boost your expertise in this rapidly advancing field. Embrace the future of AI today with DeepLearning.AI!\n",
      "\n",
      "--------------------------------------------------------------------------------\n"
     ]
    }
   ],
   "source": [
    "res = critic.initiate_chat(\n",
    "    recipient=writer,\n",
    "    message=task,\n",
    "    max_turns=2,\n",
    "    summary_method=\"last_msg\"\n",
    ")"
   ]
  },
  {
   "cell_type": "markdown",
   "id": "c5c833b0",
   "metadata": {},
   "source": [
    "## Get the summary"
   ]
  },
  {
   "cell_type": "code",
   "execution_count": 15,
   "id": "68ef82ed-f102-4964-b7be-60e2f258a39b",
   "metadata": {
    "height": 30
   },
   "outputs": [
    {
     "name": "stdout",
     "output_type": "stream",
     "text": [
      "Title: Mastering AI with DeepLearning.AI\n",
      "\n",
      "Dive deep into the realm of artificial intelligence with DeepLearning.AI, led by renowned expert Andrew Ng. The platform offers a comprehensive range of courses, from neural networks to natural language processing, enabling learners to hone essential AI skills. With interactive modules and practical projects, DeepLearning.AI caters to beginners and seasoned professionals alike. Whether you're an enthusiast or a career-driven individual, this dynamic learning experience can boost your expertise in this rapidly advancing field. Embrace the future of AI today with DeepLearning.AI!\n"
     ]
    }
   ],
   "source": [
    "print(res.summary)"
   ]
  }
 ],
 "metadata": {
  "kernelspec": {
   "display_name": "Python 3 (ipykernel)",
   "language": "python",
   "name": "python3"
  },
  "language_info": {
   "codemirror_mode": {
    "name": "ipython",
    "version": 3
   },
   "file_extension": ".py",
   "mimetype": "text/x-python",
   "name": "python",
   "nbconvert_exporter": "python",
   "pygments_lexer": "ipython3",
   "version": "3.11.9"
  }
 },
 "nbformat": 4,
 "nbformat_minor": 5
}
